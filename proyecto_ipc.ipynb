{
  "nbformat": 4,
  "nbformat_minor": 0,
  "metadata": {
    "colab": {
      "provenance": [],
      "authorship_tag": "ABX9TyNyt3SsVgl6HGmBFVu9UTKF",
      "include_colab_link": true
    },
    "kernelspec": {
      "name": "python3",
      "display_name": "Python 3"
    },
    "language_info": {
      "name": "python"
    }
  },
  "cells": [
    {
      "cell_type": "markdown",
      "metadata": {
        "id": "view-in-github",
        "colab_type": "text"
      },
      "source": [
        "<a href=\"https://colab.research.google.com/github/Michelleagl/Series_de_Tiempo/blob/main/proyecto_ipc.ipynb\" target=\"_parent\"><img src=\"https://colab.research.google.com/assets/colab-badge.svg\" alt=\"Open In Colab\"/></a>"
      ]
    },
    {
      "cell_type": "markdown",
      "source": [
        "## **Proyecto 2 Series de tiempo**\n",
        "\n",
        "Michelle Gómez\n",
        "\n",
        "Paula Pelayo\n",
        "\n",
        "Rogelio Campos"
      ],
      "metadata": {
        "id": "6H2Hzwa70_b8"
      }
    },
    {
      "cell_type": "markdown",
      "source": [
        "<br>\n",
        "<br>\n",
        "\n",
        "![iteso](https://upload.wikimedia.org/wikipedia/en/5/5f/Western_Institute_of_Technology_and_Higher_Education_logo.png)\n",
        "\n",
        "\n",
        "\n"
      ],
      "metadata": {
        "id": "4YLaYZQ01Ozi"
      }
    },
    {
      "cell_type": "markdown",
      "source": [
        "### **ÍNDICE**\n",
        "\n",
        "- Introducción\n",
        "- Teoría Modelo (Neural network autoregression)\n",
        "- Descarga de datos\n",
        "- Aplicación de transformación matemática\n",
        "- Ajuste de modelo\n",
        "- Validación y análisis de resultados\n",
        "- Elección de modelo para cada acción, según métrica de error\n",
        "- Pronósticos a 3 meses / cada industria y portafolio total\n",
        "- Cierre y conclusiones\n",
        "\n"
      ],
      "metadata": {
        "id": "9O9bJd5a1VnO"
      }
    },
    {
      "cell_type": "code",
      "source": [],
      "metadata": {
        "id": "W_tlNuMk0__J"
      },
      "execution_count": null,
      "outputs": []
    },
    {
      "cell_type": "markdown",
      "source": [
        "## **Introducción**\n",
        "\n",
        "IPC\n",
        "\n",
        "El **Índice de Precios y Cotizaciones (IPC)** es el principal indicador bursátil de México, elaborado por la Bolsa Mexicana de Valores (BMV). Mide el rendimiento promedio de una muestra de las acciones más negociadas y de mayor capitalización en el mercado, lo que lo convierte en un barómetro del desempeño del mercado financiero y, en cierta medida, de la economía mexicana.\n",
        "\n",
        "El IPC es relevante porque sirve como referencia para evaluar la rentabilidad de las inversiones en el mercado accionario, guía a los inversionistas en la toma de decisiones y se utiliza como base para productos financieros como ETFs. También es un indicador de confianza para el mercado, ya que refleja las expectativas de los inversionistas nacionales e internacionales.\n",
        "\n",
        "Aunque es una herramienta clave, el IPC tiene limitaciones, como su vulnerabilidad a la volatilidad del mercado y la concentración en un pequeño número de empresas que pueden tener un peso significativo en el índice. Aun así, sigue siendo fundamental para analizar y comprender el comportamiento del mercado bursátil en México."
      ],
      "metadata": {
        "id": "1o-dDS743DKa"
      }
    },
    {
      "cell_type": "code",
      "source": [],
      "metadata": {
        "id": "A9Y-BT6p4BRB"
      },
      "execution_count": null,
      "outputs": []
    },
    {
      "cell_type": "code",
      "source": [],
      "metadata": {
        "id": "iDflS5dj3GIB"
      },
      "execution_count": null,
      "outputs": []
    },
    {
      "cell_type": "markdown",
      "source": [
        "## **Teoría del Modelo**"
      ],
      "metadata": {
        "id": "U9mB6-G24GTJ"
      }
    },
    {
      "cell_type": "markdown",
      "source": [
        "**Redes Neuronales Autoregresivas (NNAR)**\n",
        "\n",
        "Las Redes Neuronales Autoregresivas (NNAR) combinan los principios de las redes neuronales artificiales con las técnicas autoregresivas tradicionales para modelar y predecir series de tiempo. Son redes útiles para datos temporales complejos, como precios de activos financieros, tasas de interés o indicadores económicos, donde las relaciones no lineales y los patrones estacionales son comunes.\n",
        "\n",
        "___\n",
        "\n",
        "**¿Qué es una NNAR?**\n",
        "\n",
        "Es una red neuronal de tipo feed-forward diseñada con el propósito de trabajar con series de tiempo. En lugar de utilizar predictores externos, utiliza valores pasados de la propia serie (rezagos) para predecir valores futuros.\n",
        "\n",
        "**Estructura de una NNAR**\n",
        "  1.\tCapa de entrada: Los valores rezagados de la serie {yt−1, yt−2,…, yt−p }, se utilizan como predictores. Por ejemplo, en un modelo NNAR(5,3), se toman los últimos 5 valores de la serie.\n",
        "\n",
        "  2.\tCapa oculta: Esta capa contiene \"neuronas\" que combinan las entradas mediante pesos asignados a cada predictor. Las combinaciones pasan por una función de activación (como la función sigmoide) que introduce no linealidad en el modelo. Esto permite a la red identificar patrones complejos en los datos.\n",
        "\n",
        "  3.\tCapa de salida: La capa de salida genera el valor predicho de la serie para el próximo período (yt).\n",
        "\n",
        "  ___\n",
        "\n",
        "**¿Cómo funciona?**\n",
        "\n",
        "-*Entrenamiento:*\n",
        "○\tLa red ajusta los pesos asignados a cada predictor minimizando una función de pérdida, como el error cuadrático medio (MSE).\n",
        "○\tEste proceso utiliza técnicas como el descenso de gradiente.\n",
        "\n",
        "\n",
        "-*Predicción:*\n",
        "○\tUna vez entrenada, la red utiliza los valores pasados de la serie para predecir valores futuros.\n",
        "○\tSi se requiere una predicción de varios pasos, las predicciones se alimentan de vuelta como entradas en un proceso iterativo.\n",
        "\n",
        "\n",
        "**Aplicaciones en ingeniería financiera**\n",
        "En ingeniería financiera, las NNAR son útiles para:\n",
        "-\tPredecir precios de activos financieros, como acciones o criptomonedas.\n",
        "-\tModelar tasas de interés o inflación.\n",
        "-\tEstimar la volatilidad de mercados.\n",
        "Un ejemplo práctico sería utilizar un modelo NNAR para predecir el precio futuro de una acción basándose en los últimos valores de cierre.\n",
        "___\n",
        "**Ventajas y limitaciones**\n",
        "\n",
        "*Ventajas:*\n",
        "-\tCapacidad para modelar patrones no lineales.\n",
        "-\tIncorporación de estacionalidad sin necesidad de transformaciones complejas.\n",
        "-\tFlexibilidad para manejar datos complejos.\n",
        "\n",
        "*Limitaciones:*\n",
        "- Requiere ajustar cuidadosamente los hiperparámetros (ppp, kkk, PPP).\n",
        "-\tMayor costo computacional en comparación con métodos lineales.\n",
        "-\tDependencia de un buen preprocesamiento de datos y series históricas completas.\n",
        "___\n",
        "Las **NNAR** representan una herramienta avanzada y versátil para analizar y predecir series de tiempo en problemas financieros. Su capacidad para capturar patrones no lineales las hace especialmente valiosas en mercados donde las relaciones entre variables son complejas y dinámicas. Con el uso de bibliotecas como TensorFlow, Keras o PyTorch, los alumnos pueden implementar estos modelos para resolver problemas reales de predicción financiera\n",
        "\n",
        "\n"
      ],
      "metadata": {
        "id": "LMqxV-3hNCee"
      }
    },
    {
      "cell_type": "code",
      "source": [],
      "metadata": {
        "id": "_ADrdY1O4Jdr"
      },
      "execution_count": null,
      "outputs": []
    },
    {
      "cell_type": "code",
      "source": [],
      "metadata": {
        "id": "69kAgeBf4XzD"
      },
      "execution_count": null,
      "outputs": []
    },
    {
      "cell_type": "markdown",
      "source": [
        "## **Descarga de Datos**\n"
      ],
      "metadata": {
        "id": "iDxTtOEr4Y2m"
      }
    },
    {
      "cell_type": "code",
      "source": [
        "import pandas as pd\n",
        "import yfinance as yf"
      ],
      "metadata": {
        "id": "rWMc8p5W4rPx"
      },
      "execution_count": 1,
      "outputs": []
    },
    {
      "cell_type": "code",
      "source": [
        "ticker = yf.Tickers([\"AMXB.MX\",\n",
        "                     \"WALMEX.MX\",\n",
        "                     \"FEMSAUBD.MX\",\n",
        "                     \"GMEXICOB.MX\",\n",
        "                     \"GFNORTEO.MX\",\n",
        "                     \"BIMBOA.MX\",\n",
        "                     \"TLEVISACPO.MX\",\n",
        "                     \"KIMBERA.MX\",\n",
        "                     \"CEMEXCPO.MX\",\n",
        "                     \"CHDRAUIB.MX\",\n",
        "                     \"MEGACPO.MX\",\n",
        "                     \"LABB.MX\",\n",
        "                     \"CUERVO.MX\",\n",
        "                     \"GRUMAB.MX\",\n",
        "                     \"ALSEA.MX\",\n",
        "                     \"GFINBURO.MX\",\n",
        "                     \"OMAB.MX\",\n",
        "                     \"ASURB.MX\",\n",
        "                     \"AC.MX\",\n",
        "                     \"GCARSOA1.MX\",\n",
        "                     \"BBAJIOO.MX\",\n",
        "                     \"GAPB.MX\",\n",
        "                     \"BOLSAA.MX\",\n",
        "                     \"PINFRA.MX\",\n",
        "                     \"ALFAA.MX\",\n",
        "                     \"LIVEPOLC-1.MX\",\n",
        "                     \"PE&OLES.MX\",\n",
        "                     \"KOF.MX\",\n",
        "                     \"VESTA.MX\",\n",
        "                     \"GCC.MX\",\n",
        "                     \"ORBIA.MX\",\n",
        "                     \"Q.MX\",\n",
        "                     \"R.A.MX\"])\n",
        "\n",
        "\n",
        "data = ticker.history(start= '2015-01-01', end= '2023-12-31', interval='1mo')['Close']\n"
      ],
      "metadata": {
        "colab": {
          "base_uri": "https://localhost:8080/"
        },
        "id": "1mwHlugK5WIk",
        "outputId": "5c412328-01f4-463a-9b08-06d31bc4c45f"
      },
      "execution_count": 2,
      "outputs": [
        {
          "output_type": "stream",
          "name": "stderr",
          "text": [
            "[*********************100%***********************]  33 of 33 completed\n",
            "ERROR:yfinance:\n",
            "2 Failed downloads:\n",
            "ERROR:yfinance:['R.A.MX', 'KOF.MX']: YFTzMissingError('$%ticker%: possibly delisted; no timezone found')\n"
          ]
        }
      ]
    },
    {
      "cell_type": "code",
      "source": [
        "data.index = data.index.strftime('%Y-%m')\n",
        "data.index = pd.to_datetime(data.index)"
      ],
      "metadata": {
        "id": "d1_bYgfF5bLc"
      },
      "execution_count": 3,
      "outputs": []
    },
    {
      "cell_type": "code",
      "source": [
        "data.head()"
      ],
      "metadata": {
        "colab": {
          "base_uri": "https://localhost:8080/",
          "height": 267
        },
        "id": "02YwWs6-5hI8",
        "outputId": "f58edc40-a05d-45b2-cd90-aeab083da531"
      },
      "execution_count": 4,
      "outputs": [
        {
          "output_type": "execute_result",
          "data": {
            "text/plain": [
              "Ticker          AC.MX   ALFAA.MX   ALSEA.MX    AMXB.MX    ASURB.MX  \\\n",
              "Date                                                                 \n",
              "2015-01-01  65.702614  24.680984  37.795330  11.671398  154.705292   \n",
              "2015-02-01  70.285484  29.101454  43.193314  11.671398  161.849304   \n",
              "2015-03-01  69.477180  27.672890  42.006325  11.124299  162.236099   \n",
              "2015-04-01  69.892448  27.987354  43.400566  11.737049  171.416763   \n",
              "2015-05-01  70.519691  27.213701  43.626663  11.744344  179.291840   \n",
              "\n",
              "Ticker      BBAJIOO.MX  BIMBOA.MX  BOLSAA.MX  CEMEXCPO.MX  CHDRAUIB.MX  ...  \\\n",
              "Date                                                                    ...   \n",
              "2015-01-01         NaN  34.200207  15.430022    11.531771    37.656040  ...   \n",
              "2015-02-01         NaN  37.858757  16.780144    13.125944    44.382282  ...   \n",
              "2015-03-01         NaN  38.791317  16.133083    12.536794    41.835011  ...   \n",
              "2015-04-01         NaN  36.944118  18.360479    13.335612    41.735294  ...   \n",
              "2015-05-01         NaN  37.374535  16.991692    12.993212    42.756989  ...   \n",
              "\n",
              "Ticker      MEGACPO.MX    OMAB.MX   ORBIA.MX  PE&OLES.MX   PINFRA.MX  Q.MX  \\\n",
              "Date                                                                         \n",
              "2015-01-01   38.958519  38.346149  32.977501  262.346039  130.751785   NaN   \n",
              "2015-02-01   39.022575  39.573219  34.580372  281.710815  138.726181   NaN   \n",
              "2015-03-01   42.517677  41.436153  31.706266  235.338333  126.094299   NaN   \n",
              "2015-04-01   45.450413  42.735741  34.969208  230.718765  136.695755   NaN   \n",
              "2015-05-01   46.048355  40.197926  37.133888  242.054337  130.000076   NaN   \n",
              "\n",
              "Ticker      R.A.MX  TLEVISACPO.MX   VESTA.MX  WALMEX.MX  \n",
              "Date                                                     \n",
              "2015-01-01     NaN      88.730591  23.547869  22.713276  \n",
              "2015-02-01     NaN      92.414070  23.328474  28.707388  \n",
              "2015-03-01     NaN      91.677376  23.035959  30.010487  \n",
              "2015-04-01     NaN     101.554520  23.328474  28.537912  \n",
              "2015-05-01     NaN     105.901924  22.910898  30.458601  \n",
              "\n",
              "[5 rows x 33 columns]"
            ],
            "text/html": [
              "\n",
              "  <div id=\"df-52706676-9331-47b0-a2df-6fe57493e552\" class=\"colab-df-container\">\n",
              "    <div>\n",
              "<style scoped>\n",
              "    .dataframe tbody tr th:only-of-type {\n",
              "        vertical-align: middle;\n",
              "    }\n",
              "\n",
              "    .dataframe tbody tr th {\n",
              "        vertical-align: top;\n",
              "    }\n",
              "\n",
              "    .dataframe thead th {\n",
              "        text-align: right;\n",
              "    }\n",
              "</style>\n",
              "<table border=\"1\" class=\"dataframe\">\n",
              "  <thead>\n",
              "    <tr style=\"text-align: right;\">\n",
              "      <th>Ticker</th>\n",
              "      <th>AC.MX</th>\n",
              "      <th>ALFAA.MX</th>\n",
              "      <th>ALSEA.MX</th>\n",
              "      <th>AMXB.MX</th>\n",
              "      <th>ASURB.MX</th>\n",
              "      <th>BBAJIOO.MX</th>\n",
              "      <th>BIMBOA.MX</th>\n",
              "      <th>BOLSAA.MX</th>\n",
              "      <th>CEMEXCPO.MX</th>\n",
              "      <th>CHDRAUIB.MX</th>\n",
              "      <th>...</th>\n",
              "      <th>MEGACPO.MX</th>\n",
              "      <th>OMAB.MX</th>\n",
              "      <th>ORBIA.MX</th>\n",
              "      <th>PE&amp;OLES.MX</th>\n",
              "      <th>PINFRA.MX</th>\n",
              "      <th>Q.MX</th>\n",
              "      <th>R.A.MX</th>\n",
              "      <th>TLEVISACPO.MX</th>\n",
              "      <th>VESTA.MX</th>\n",
              "      <th>WALMEX.MX</th>\n",
              "    </tr>\n",
              "    <tr>\n",
              "      <th>Date</th>\n",
              "      <th></th>\n",
              "      <th></th>\n",
              "      <th></th>\n",
              "      <th></th>\n",
              "      <th></th>\n",
              "      <th></th>\n",
              "      <th></th>\n",
              "      <th></th>\n",
              "      <th></th>\n",
              "      <th></th>\n",
              "      <th></th>\n",
              "      <th></th>\n",
              "      <th></th>\n",
              "      <th></th>\n",
              "      <th></th>\n",
              "      <th></th>\n",
              "      <th></th>\n",
              "      <th></th>\n",
              "      <th></th>\n",
              "      <th></th>\n",
              "      <th></th>\n",
              "    </tr>\n",
              "  </thead>\n",
              "  <tbody>\n",
              "    <tr>\n",
              "      <th>2015-01-01</th>\n",
              "      <td>65.702614</td>\n",
              "      <td>24.680984</td>\n",
              "      <td>37.795330</td>\n",
              "      <td>11.671398</td>\n",
              "      <td>154.705292</td>\n",
              "      <td>NaN</td>\n",
              "      <td>34.200207</td>\n",
              "      <td>15.430022</td>\n",
              "      <td>11.531771</td>\n",
              "      <td>37.656040</td>\n",
              "      <td>...</td>\n",
              "      <td>38.958519</td>\n",
              "      <td>38.346149</td>\n",
              "      <td>32.977501</td>\n",
              "      <td>262.346039</td>\n",
              "      <td>130.751785</td>\n",
              "      <td>NaN</td>\n",
              "      <td>NaN</td>\n",
              "      <td>88.730591</td>\n",
              "      <td>23.547869</td>\n",
              "      <td>22.713276</td>\n",
              "    </tr>\n",
              "    <tr>\n",
              "      <th>2015-02-01</th>\n",
              "      <td>70.285484</td>\n",
              "      <td>29.101454</td>\n",
              "      <td>43.193314</td>\n",
              "      <td>11.671398</td>\n",
              "      <td>161.849304</td>\n",
              "      <td>NaN</td>\n",
              "      <td>37.858757</td>\n",
              "      <td>16.780144</td>\n",
              "      <td>13.125944</td>\n",
              "      <td>44.382282</td>\n",
              "      <td>...</td>\n",
              "      <td>39.022575</td>\n",
              "      <td>39.573219</td>\n",
              "      <td>34.580372</td>\n",
              "      <td>281.710815</td>\n",
              "      <td>138.726181</td>\n",
              "      <td>NaN</td>\n",
              "      <td>NaN</td>\n",
              "      <td>92.414070</td>\n",
              "      <td>23.328474</td>\n",
              "      <td>28.707388</td>\n",
              "    </tr>\n",
              "    <tr>\n",
              "      <th>2015-03-01</th>\n",
              "      <td>69.477180</td>\n",
              "      <td>27.672890</td>\n",
              "      <td>42.006325</td>\n",
              "      <td>11.124299</td>\n",
              "      <td>162.236099</td>\n",
              "      <td>NaN</td>\n",
              "      <td>38.791317</td>\n",
              "      <td>16.133083</td>\n",
              "      <td>12.536794</td>\n",
              "      <td>41.835011</td>\n",
              "      <td>...</td>\n",
              "      <td>42.517677</td>\n",
              "      <td>41.436153</td>\n",
              "      <td>31.706266</td>\n",
              "      <td>235.338333</td>\n",
              "      <td>126.094299</td>\n",
              "      <td>NaN</td>\n",
              "      <td>NaN</td>\n",
              "      <td>91.677376</td>\n",
              "      <td>23.035959</td>\n",
              "      <td>30.010487</td>\n",
              "    </tr>\n",
              "    <tr>\n",
              "      <th>2015-04-01</th>\n",
              "      <td>69.892448</td>\n",
              "      <td>27.987354</td>\n",
              "      <td>43.400566</td>\n",
              "      <td>11.737049</td>\n",
              "      <td>171.416763</td>\n",
              "      <td>NaN</td>\n",
              "      <td>36.944118</td>\n",
              "      <td>18.360479</td>\n",
              "      <td>13.335612</td>\n",
              "      <td>41.735294</td>\n",
              "      <td>...</td>\n",
              "      <td>45.450413</td>\n",
              "      <td>42.735741</td>\n",
              "      <td>34.969208</td>\n",
              "      <td>230.718765</td>\n",
              "      <td>136.695755</td>\n",
              "      <td>NaN</td>\n",
              "      <td>NaN</td>\n",
              "      <td>101.554520</td>\n",
              "      <td>23.328474</td>\n",
              "      <td>28.537912</td>\n",
              "    </tr>\n",
              "    <tr>\n",
              "      <th>2015-05-01</th>\n",
              "      <td>70.519691</td>\n",
              "      <td>27.213701</td>\n",
              "      <td>43.626663</td>\n",
              "      <td>11.744344</td>\n",
              "      <td>179.291840</td>\n",
              "      <td>NaN</td>\n",
              "      <td>37.374535</td>\n",
              "      <td>16.991692</td>\n",
              "      <td>12.993212</td>\n",
              "      <td>42.756989</td>\n",
              "      <td>...</td>\n",
              "      <td>46.048355</td>\n",
              "      <td>40.197926</td>\n",
              "      <td>37.133888</td>\n",
              "      <td>242.054337</td>\n",
              "      <td>130.000076</td>\n",
              "      <td>NaN</td>\n",
              "      <td>NaN</td>\n",
              "      <td>105.901924</td>\n",
              "      <td>22.910898</td>\n",
              "      <td>30.458601</td>\n",
              "    </tr>\n",
              "  </tbody>\n",
              "</table>\n",
              "<p>5 rows × 33 columns</p>\n",
              "</div>\n",
              "    <div class=\"colab-df-buttons\">\n",
              "\n",
              "  <div class=\"colab-df-container\">\n",
              "    <button class=\"colab-df-convert\" onclick=\"convertToInteractive('df-52706676-9331-47b0-a2df-6fe57493e552')\"\n",
              "            title=\"Convert this dataframe to an interactive table.\"\n",
              "            style=\"display:none;\">\n",
              "\n",
              "  <svg xmlns=\"http://www.w3.org/2000/svg\" height=\"24px\" viewBox=\"0 -960 960 960\">\n",
              "    <path d=\"M120-120v-720h720v720H120Zm60-500h600v-160H180v160Zm220 220h160v-160H400v160Zm0 220h160v-160H400v160ZM180-400h160v-160H180v160Zm440 0h160v-160H620v160ZM180-180h160v-160H180v160Zm440 0h160v-160H620v160Z\"/>\n",
              "  </svg>\n",
              "    </button>\n",
              "\n",
              "  <style>\n",
              "    .colab-df-container {\n",
              "      display:flex;\n",
              "      gap: 12px;\n",
              "    }\n",
              "\n",
              "    .colab-df-convert {\n",
              "      background-color: #E8F0FE;\n",
              "      border: none;\n",
              "      border-radius: 50%;\n",
              "      cursor: pointer;\n",
              "      display: none;\n",
              "      fill: #1967D2;\n",
              "      height: 32px;\n",
              "      padding: 0 0 0 0;\n",
              "      width: 32px;\n",
              "    }\n",
              "\n",
              "    .colab-df-convert:hover {\n",
              "      background-color: #E2EBFA;\n",
              "      box-shadow: 0px 1px 2px rgba(60, 64, 67, 0.3), 0px 1px 3px 1px rgba(60, 64, 67, 0.15);\n",
              "      fill: #174EA6;\n",
              "    }\n",
              "\n",
              "    .colab-df-buttons div {\n",
              "      margin-bottom: 4px;\n",
              "    }\n",
              "\n",
              "    [theme=dark] .colab-df-convert {\n",
              "      background-color: #3B4455;\n",
              "      fill: #D2E3FC;\n",
              "    }\n",
              "\n",
              "    [theme=dark] .colab-df-convert:hover {\n",
              "      background-color: #434B5C;\n",
              "      box-shadow: 0px 1px 3px 1px rgba(0, 0, 0, 0.15);\n",
              "      filter: drop-shadow(0px 1px 2px rgba(0, 0, 0, 0.3));\n",
              "      fill: #FFFFFF;\n",
              "    }\n",
              "  </style>\n",
              "\n",
              "    <script>\n",
              "      const buttonEl =\n",
              "        document.querySelector('#df-52706676-9331-47b0-a2df-6fe57493e552 button.colab-df-convert');\n",
              "      buttonEl.style.display =\n",
              "        google.colab.kernel.accessAllowed ? 'block' : 'none';\n",
              "\n",
              "      async function convertToInteractive(key) {\n",
              "        const element = document.querySelector('#df-52706676-9331-47b0-a2df-6fe57493e552');\n",
              "        const dataTable =\n",
              "          await google.colab.kernel.invokeFunction('convertToInteractive',\n",
              "                                                    [key], {});\n",
              "        if (!dataTable) return;\n",
              "\n",
              "        const docLinkHtml = 'Like what you see? Visit the ' +\n",
              "          '<a target=\"_blank\" href=https://colab.research.google.com/notebooks/data_table.ipynb>data table notebook</a>'\n",
              "          + ' to learn more about interactive tables.';\n",
              "        element.innerHTML = '';\n",
              "        dataTable['output_type'] = 'display_data';\n",
              "        await google.colab.output.renderOutput(dataTable, element);\n",
              "        const docLink = document.createElement('div');\n",
              "        docLink.innerHTML = docLinkHtml;\n",
              "        element.appendChild(docLink);\n",
              "      }\n",
              "    </script>\n",
              "  </div>\n",
              "\n",
              "\n",
              "<div id=\"df-c0ac87a4-7892-4451-bf3d-aefb2392c76f\">\n",
              "  <button class=\"colab-df-quickchart\" onclick=\"quickchart('df-c0ac87a4-7892-4451-bf3d-aefb2392c76f')\"\n",
              "            title=\"Suggest charts\"\n",
              "            style=\"display:none;\">\n",
              "\n",
              "<svg xmlns=\"http://www.w3.org/2000/svg\" height=\"24px\"viewBox=\"0 0 24 24\"\n",
              "     width=\"24px\">\n",
              "    <g>\n",
              "        <path d=\"M19 3H5c-1.1 0-2 .9-2 2v14c0 1.1.9 2 2 2h14c1.1 0 2-.9 2-2V5c0-1.1-.9-2-2-2zM9 17H7v-7h2v7zm4 0h-2V7h2v10zm4 0h-2v-4h2v4z\"/>\n",
              "    </g>\n",
              "</svg>\n",
              "  </button>\n",
              "\n",
              "<style>\n",
              "  .colab-df-quickchart {\n",
              "      --bg-color: #E8F0FE;\n",
              "      --fill-color: #1967D2;\n",
              "      --hover-bg-color: #E2EBFA;\n",
              "      --hover-fill-color: #174EA6;\n",
              "      --disabled-fill-color: #AAA;\n",
              "      --disabled-bg-color: #DDD;\n",
              "  }\n",
              "\n",
              "  [theme=dark] .colab-df-quickchart {\n",
              "      --bg-color: #3B4455;\n",
              "      --fill-color: #D2E3FC;\n",
              "      --hover-bg-color: #434B5C;\n",
              "      --hover-fill-color: #FFFFFF;\n",
              "      --disabled-bg-color: #3B4455;\n",
              "      --disabled-fill-color: #666;\n",
              "  }\n",
              "\n",
              "  .colab-df-quickchart {\n",
              "    background-color: var(--bg-color);\n",
              "    border: none;\n",
              "    border-radius: 50%;\n",
              "    cursor: pointer;\n",
              "    display: none;\n",
              "    fill: var(--fill-color);\n",
              "    height: 32px;\n",
              "    padding: 0;\n",
              "    width: 32px;\n",
              "  }\n",
              "\n",
              "  .colab-df-quickchart:hover {\n",
              "    background-color: var(--hover-bg-color);\n",
              "    box-shadow: 0 1px 2px rgba(60, 64, 67, 0.3), 0 1px 3px 1px rgba(60, 64, 67, 0.15);\n",
              "    fill: var(--button-hover-fill-color);\n",
              "  }\n",
              "\n",
              "  .colab-df-quickchart-complete:disabled,\n",
              "  .colab-df-quickchart-complete:disabled:hover {\n",
              "    background-color: var(--disabled-bg-color);\n",
              "    fill: var(--disabled-fill-color);\n",
              "    box-shadow: none;\n",
              "  }\n",
              "\n",
              "  .colab-df-spinner {\n",
              "    border: 2px solid var(--fill-color);\n",
              "    border-color: transparent;\n",
              "    border-bottom-color: var(--fill-color);\n",
              "    animation:\n",
              "      spin 1s steps(1) infinite;\n",
              "  }\n",
              "\n",
              "  @keyframes spin {\n",
              "    0% {\n",
              "      border-color: transparent;\n",
              "      border-bottom-color: var(--fill-color);\n",
              "      border-left-color: var(--fill-color);\n",
              "    }\n",
              "    20% {\n",
              "      border-color: transparent;\n",
              "      border-left-color: var(--fill-color);\n",
              "      border-top-color: var(--fill-color);\n",
              "    }\n",
              "    30% {\n",
              "      border-color: transparent;\n",
              "      border-left-color: var(--fill-color);\n",
              "      border-top-color: var(--fill-color);\n",
              "      border-right-color: var(--fill-color);\n",
              "    }\n",
              "    40% {\n",
              "      border-color: transparent;\n",
              "      border-right-color: var(--fill-color);\n",
              "      border-top-color: var(--fill-color);\n",
              "    }\n",
              "    60% {\n",
              "      border-color: transparent;\n",
              "      border-right-color: var(--fill-color);\n",
              "    }\n",
              "    80% {\n",
              "      border-color: transparent;\n",
              "      border-right-color: var(--fill-color);\n",
              "      border-bottom-color: var(--fill-color);\n",
              "    }\n",
              "    90% {\n",
              "      border-color: transparent;\n",
              "      border-bottom-color: var(--fill-color);\n",
              "    }\n",
              "  }\n",
              "</style>\n",
              "\n",
              "  <script>\n",
              "    async function quickchart(key) {\n",
              "      const quickchartButtonEl =\n",
              "        document.querySelector('#' + key + ' button');\n",
              "      quickchartButtonEl.disabled = true;  // To prevent multiple clicks.\n",
              "      quickchartButtonEl.classList.add('colab-df-spinner');\n",
              "      try {\n",
              "        const charts = await google.colab.kernel.invokeFunction(\n",
              "            'suggestCharts', [key], {});\n",
              "      } catch (error) {\n",
              "        console.error('Error during call to suggestCharts:', error);\n",
              "      }\n",
              "      quickchartButtonEl.classList.remove('colab-df-spinner');\n",
              "      quickchartButtonEl.classList.add('colab-df-quickchart-complete');\n",
              "    }\n",
              "    (() => {\n",
              "      let quickchartButtonEl =\n",
              "        document.querySelector('#df-c0ac87a4-7892-4451-bf3d-aefb2392c76f button');\n",
              "      quickchartButtonEl.style.display =\n",
              "        google.colab.kernel.accessAllowed ? 'block' : 'none';\n",
              "    })();\n",
              "  </script>\n",
              "</div>\n",
              "\n",
              "    </div>\n",
              "  </div>\n"
            ],
            "application/vnd.google.colaboratory.intrinsic+json": {
              "type": "dataframe",
              "variable_name": "data"
            }
          },
          "metadata": {},
          "execution_count": 4
        }
      ]
    },
    {
      "cell_type": "code",
      "source": [
        "# plot of data\n",
        "\n",
        "import matplotlib.pyplot as plt\n",
        "\n",
        "# plot the closing price of 5 random\n",
        "plt.figure(figsize=(12, 6))\n",
        "plt.plot(data['AMXB.MX'],label='AMXB.MX', color='black')\n",
        "plt.plot(data['CEMEXCPO.MX'],label='CEMEXCPO.MX', color='gray')\n",
        "plt.plot(data['BIMBOA.MX'],label='BIMBOA.MX', color='red')\n",
        "plt.plot(data['FEMSAUBD.MX'],label='FEMSAUBD.MX', color='green')\n",
        "plt.plot(data['GAPB.MX'],label='GAPB.MX', color='blue')\n",
        "plt.title('Closing Prices')\n",
        "plt.xlabel('Date')\n",
        "plt.ylabel('Price')\n",
        "plt.grid(True)\n",
        "plt.show()\n"
      ],
      "metadata": {
        "colab": {
          "base_uri": "https://localhost:8080/",
          "height": 564
        },
        "id": "ERExN6zF5irg",
        "outputId": "d31703c5-adcd-4856-c360-a05863dc347d"
      },
      "execution_count": 5,
      "outputs": [
        {
          "output_type": "display_data",
          "data": {
            "text/plain": [
              "<Figure size 1200x600 with 1 Axes>"
            ],
            "image/png": "[encoded data removed]"
          },
          "metadata": {}
        }
      ]
    },
    {
      "cell_type": "code",
      "source": [],
      "metadata": {
        "id": "uL9-NHLo6HNq"
      },
      "execution_count": 5,
      "outputs": []
    },
    {
      "cell_type": "code",
      "source": [],
      "metadata": {
        "id": "B9PPIEZKFruO"
      },
      "execution_count": null,
      "outputs": []
    },
    {
      "cell_type": "markdown",
      "source": [
        "## **Aplicación de transformación matemática**"
      ],
      "metadata": {
        "id": "Y-PmPX6z1b0Z"
      }
    },
    {
      "cell_type": "code",
      "source": [],
      "metadata": {
        "id": "HRO4PjhO1d5W"
      },
      "execution_count": null,
      "outputs": []
    },
    {
      "cell_type": "code",
      "source": [],
      "metadata": {
        "id": "zLd4Atrm1d1_"
      },
      "execution_count": null,
      "outputs": []
    },
    {
      "cell_type": "markdown",
      "source": [
        "## **Elección de modelo para cada acción, según métrica de error**\n"
      ],
      "metadata": {
        "id": "_iTYYTfa1hsF"
      }
    },
    {
      "cell_type": "code",
      "source": [],
      "metadata": {
        "id": "Bj5AG4F41kq6"
      },
      "execution_count": null,
      "outputs": []
    },
    {
      "cell_type": "code",
      "source": [],
      "metadata": {
        "id": "a5v3e7EK1knc"
      },
      "execution_count": null,
      "outputs": []
    },
    {
      "cell_type": "markdown",
      "source": [
        "## **Pronósticos a 3 meses**"
      ],
      "metadata": {
        "id": "zDrXuo3z1oTZ"
      }
    },
    {
      "cell_type": "code",
      "source": [],
      "metadata": {
        "id": "FFcQaUi71rF0"
      },
      "execution_count": null,
      "outputs": []
    },
    {
      "cell_type": "code",
      "source": [],
      "metadata": {
        "id": "yhjxCCJZ1rCj"
      },
      "execution_count": null,
      "outputs": []
    },
    {
      "cell_type": "markdown",
      "source": [
        "## **Conclusiones**"
      ],
      "metadata": {
        "id": "aSUYlO0x1uPm"
      }
    },
    {
      "cell_type": "code",
      "source": [],
      "metadata": {
        "id": "EnEx-XwP1xIo"
      },
      "execution_count": null,
      "outputs": []
    },
    {
      "cell_type": "code",
      "source": [],
      "metadata": {
        "id": "R-J0OdLe1xFS"
      },
      "execution_count": null,
      "outputs": []
    },
    {
      "cell_type": "markdown",
      "source": [
        "## **Referencias**\n",
        "\n",
        "Gbm. (2023, 10 abril). ¿Qué es el Índice de Precios y Cotizaciones (IPC) de México? GBM Academy. https://gbm.com/academy/que-es-el-indice-de-precios-y-cotizaciones-ipc/\n",
        "\n"
      ],
      "metadata": {
        "id": "IPiM4VL-Fsx3"
      }
    }
  ]
}